{
 "cells": [
  {
   "cell_type": "code",
   "execution_count": 3,
   "metadata": {},
   "outputs": [
    {
     "name": "stdout",
     "output_type": "stream",
     "text": [
      "data shape (1797, 64)\n",
      "target shape (1797,)\n",
      "images shape (1797, 8, 8)\n"
     ]
    }
   ],
   "source": [
    "from sklearn.datasets import load_digits\n",
    "dataset=load_digits()\n",
    "data=dataset.data\n",
    "target=dataset.target\n",
    "images=dataset.images\n",
    "\n",
    "print('data shape',data.shape)\n",
    "print('target shape',target.shape)\n",
    "print('images shape',images.shape)"
   ]
  },
  {
   "cell_type": "code",
   "execution_count": 4,
   "metadata": {},
   "outputs": [
    {
     "name": "stdout",
     "output_type": "stream",
     "text": [
      "target: 1\n"
     ]
    }
   ],
   "source": [
    "from matplotlib import pyplot as plt\n",
    "plt.imshow(images[1000],cmap='gray')\n",
    "print('target:',target[1000])"
   ]
  },
  {
   "cell_type": "code",
   "execution_count": 5,
   "metadata": {},
   "outputs": [
    {
     "data": {
      "text/plain": [
       "<matplotlib.image.AxesImage at 0x22052c01288>"
      ]
     },
     "execution_count": 5,
     "metadata": {},
     "output_type": "execute_result"
    },
    {
     "data": {
      "image/png": "[encoded data removed]",
      "text/plain": [
       "<Figure size 432x288 with 1 Axes>"
      ]
     },
     "metadata": {
      "needs_background": "light"
     },
     "output_type": "display_data"
    }
   ],
   "source": [
    "plt.imshow(data[100].reshape(1,64),cmap='gray')"
   ]
  },
  {
   "cell_type": "code",
   "execution_count": 6,
   "metadata": {},
   "outputs": [
    {
     "name": "stdout",
     "output_type": "stream",
     "text": [
      "[[ 0.  0.  1. 14.  2.  0.  0.  0.]\n",
      " [ 0.  0.  0. 16.  5.  0.  0.  0.]\n",
      " [ 0.  0.  0. 14. 10.  0.  0.  0.]\n",
      " [ 0.  0.  0. 11. 16.  1.  0.  0.]\n",
      " [ 0.  0.  0.  3. 14.  6.  0.  0.]\n",
      " [ 0.  0.  0.  0.  8. 12.  0.  0.]\n",
      " [ 0.  0. 10. 14. 13. 16.  8.  3.]\n",
      " [ 0.  0.  2. 11. 12. 15. 16. 15.]]\n"
     ]
    }
   ],
   "source": [
    "print(images[1000])"
   ]
  },
  {
   "cell_type": "code",
   "execution_count": 7,
   "metadata": {},
   "outputs": [
    {
     "name": "stdout",
     "output_type": "stream",
     "text": [
      "[ 0.  0.  1. 14.  2.  0.  0.  0.  0.  0.  0. 16.  5.  0.  0.  0.  0.  0.\n",
      "  0. 14. 10.  0.  0.  0.  0.  0.  0. 11. 16.  1.  0.  0.  0.  0.  0.  3.\n",
      " 14.  6.  0.  0.  0.  0.  0.  0.  8. 12.  0.  0.  0.  0. 10. 14. 13. 16.\n",
      "  8.  3.  0.  0.  2. 11. 12. 15. 16. 15.]\n"
     ]
    }
   ],
   "source": [
    "print(data[1000])"
   ]
  },
  {
   "cell_type": "code",
   "execution_count": 8,
   "metadata": {},
   "outputs": [],
   "source": [
    "from sklearn.model_selection import train_test_split\n",
    "train_data,test_data,train_target,test_target=train_test_split(data,target,test_size=0.2)"
   ]
  },
  {
   "cell_type": "code",
   "execution_count": 9,
   "metadata": {},
   "outputs": [
    {
     "data": {
      "text/plain": [
       "KNeighborsClassifier(algorithm='auto', leaf_size=30, metric='minkowski',\n",
       "                     metric_params=None, n_jobs=None, n_neighbors=5, p=2,\n",
       "                     weights='uniform')"
      ]
     },
     "execution_count": 9,
     "metadata": {},
     "output_type": "execute_result"
    }
   ],
   "source": [
    "from sklearn.neighbors import KNeighborsClassifier\n",
    "#loading knn algorithm to model\n",
    "model=KNeighborsClassifier()\n",
    "\n",
    "#training the model\n",
    "model.fit(train_data,train_target)"
   ]
  },
  {
   "cell_type": "code",
   "execution_count": 10,
   "metadata": {},
   "outputs": [
    {
     "name": "stdout",
     "output_type": "stream",
     "text": [
      "(360, 64)\n"
     ]
    }
   ],
   "source": [
    "print(test_data.shape)"
   ]
  },
  {
   "cell_type": "code",
   "execution_count": 11,
   "metadata": {},
   "outputs": [],
   "source": [
    "#+applying testing images into the trained model\n",
    "predicted_target=model.predict(test_data)"
   ]
  },
  {
   "cell_type": "code",
   "execution_count": 12,
   "metadata": {},
   "outputs": [
    {
     "name": "stdout",
     "output_type": "stream",
     "text": [
      "Accuracy: 0.9694444444444444\n"
     ]
    }
   ],
   "source": [
    "from sklearn.metrics import accuracy_score\n",
    "acc=accuracy_score(test_target,predicted_target)\n",
    "print('Accuracy:',acc)"
   ]
  },
  {
   "cell_type": "code",
   "execution_count": 13,
   "metadata": {},
   "outputs": [
    {
     "name": "stdout",
     "output_type": "stream",
     "text": [
      "Predicted Digits: [1 4 3 0 6 2 1 8 5 3 4 4 5 3 1 9 2 4 8 8 6 0 4 4 7 7 5 4 1 1 9 2 0 5 0 7 0\n",
      " 2 4 6 9 0 0 1 6 0 0 5 3 5 4 1 7 5 1 5 2 9 0 6 2 5 2 7 1 5 0 8 8 2 6 2 1 5\n",
      " 4 9 8 8 7 4 6 6 2 6 3 7 8 7 8 3 4 1 9 7 5 6 7 3 5 6 8 2 3 4 0 2 7 6 6 4 9\n",
      " 9 0 8 0 6 1 6 9 3 3 4 4 7 2 0 6 0 3 7 7 6 1 3 6 4 0 3 7 5 3 3 7 6 7 4 2 0\n",
      " 1 2 1 6 2 9 1 2 8 3 8 0 8 1 6 3 4 2 1 1 7 1 7 1 2 5 4 0 1 4 9 2 5 1 4 3 9\n",
      " 1 1 1 0 6 3 7 8 7 7 2 0 8 4 8 0 5 5 7 5 1 2 6 5 2 2 2 0 5 3 7 6 8 6 9 5 2\n",
      " 1 5 7 5 3 6 5 5 8 6 5 5 1 0 5 8 2 3 5 9 8 2 4 5 2 5 4 1 6 0 3 4 1 1 3 8 1\n",
      " 1 1 5 6 1 5 3 0 7 9 4 9 7 1 4 7 2 4 8 2 4 4 8 8 0 4 2 2 4 7 3 1 4 0 9 5 7\n",
      " 4 9 5 9 7 3 5 8 6 5 1 0 9 0 1 6 2 2 3 0 8 0 1 9 7 8 9 5 3 5 5 6 7 8 9 1 0\n",
      " 1 8 4 8 9 4 3 5 2 9 0 3 3 7 7 7 4 9 6 2 4 5 2 9 3 0 3]\n",
      "Actual Digits: [1 4 3 0 6 2 1 8 5 3 4 4 5 3 1 9 2 4 8 8 6 0 4 4 2 7 5 4 1 1 9 2 0 5 0 7 0\n",
      " 2 4 6 9 0 0 1 6 0 0 5 3 5 9 1 7 5 1 5 2 9 0 6 2 5 2 7 1 5 0 8 8 2 6 2 1 5\n",
      " 4 9 8 8 7 4 6 6 2 6 3 3 8 7 8 3 4 1 9 7 5 6 7 3 5 6 8 2 3 4 0 2 7 6 6 4 9\n",
      " 7 0 8 0 6 1 6 9 3 3 4 4 7 2 0 6 0 3 7 7 6 1 3 6 4 0 3 7 5 3 3 7 6 7 4 2 0\n",
      " 1 2 1 6 2 9 1 2 8 3 8 0 8 1 6 3 4 2 1 1 7 1 7 1 2 5 4 0 1 4 9 2 5 1 4 3 9\n",
      " 1 1 8 0 6 3 7 8 7 7 2 0 8 4 8 0 5 5 7 5 1 2 6 5 2 2 2 0 5 3 7 6 8 8 9 5 8\n",
      " 1 5 7 5 3 6 5 5 8 6 9 5 1 0 5 8 2 3 5 9 8 2 4 5 2 5 4 1 6 0 3 4 1 1 3 9 1\n",
      " 1 8 5 6 1 5 3 0 7 9 4 9 7 1 4 7 2 4 8 2 4 4 8 8 0 4 2 2 4 7 3 1 4 0 9 5 7\n",
      " 4 9 5 9 7 3 5 8 6 5 1 0 9 0 1 6 2 2 3 0 8 0 1 9 7 8 9 5 3 5 5 6 7 8 9 1 0\n",
      " 1 8 4 8 9 4 3 5 2 9 0 9 3 7 7 7 4 9 6 2 4 5 2 9 3 0 3]\n"
     ]
    }
   ],
   "source": [
    "print('Predicted Digits:',predicted_target)\n",
    "print('Actual Digits:',test_target)\n"
   ]
  },
  {
   "cell_type": "code",
   "execution_count": 14,
   "metadata": {},
   "outputs": [
    {
     "data": {
      "text/plain": [
       "['KNN-handwritten-digits.sav']"
      ]
     },
     "execution_count": 14,
     "metadata": {},
     "output_type": "execute_result"
    }
   ],
   "source": [
    "import joblib\n",
    "joblib.dump(model,'KNN-handwritten-digits.sav')"
   ]
  },
  {
   "cell_type": "code",
   "execution_count": null,
   "metadata": {},
   "outputs": [],
   "source": []
  }
 ],
 "metadata": {
  "kernelspec": {
   "display_name": "Python 3",
   "language": "python",
   "name": "python3"
  },
  "language_info": {
   "codemirror_mode": {
    "name": "ipython",
    "version": 3
   },
   "file_extension": ".py",
   "mimetype": "text/x-python",
   "name": "python",
   "nbconvert_exporter": "python",
   "pygments_lexer": "ipython3",
   "version": "3.7.4"
  }
 },
 "nbformat": 4,
 "nbformat_minor": 2
}
